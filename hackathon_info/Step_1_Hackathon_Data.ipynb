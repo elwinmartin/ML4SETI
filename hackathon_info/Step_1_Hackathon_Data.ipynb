{
 "cells": [
  {
   "cell_type": "markdown",
   "metadata": {
    "deletable": true,
    "editable": true
   },
   "source": [
    "# Access Data for Hackathon\n"
   ]
  },
  {
   "cell_type": "markdown",
   "metadata": {
    "deletable": true,
    "editable": true
   },
   "source": [
    "## Pull data from IBM Object Storage to your local machine\n",
    "\n",
    "The data are stored in containers on IBM Object Storage. You can access these data with HTTP calls. \n",
    "\n",
    "Data processing should take longer than reading the files from the network to Object Storage, so this should not create a bottleneck in your overall workflow on Spark Enterprise."
   ]
  },
  {
   "cell_type": "code",
   "execution_count": null,
   "metadata": {
    "collapsed": false,
    "deletable": true,
    "editable": true
   },
   "outputs": [],
   "source": [
    "# Install ibmseti library. Important - make sure you upgrade\n",
    "!pip install --user --upgrade ibmseti"
   ]
  },
  {
   "cell_type": "code",
   "execution_count": 7,
   "metadata": {
    "collapsed": true,
    "deletable": true,
    "editable": true
   },
   "outputs": [],
   "source": [
    "import os\n",
    "import zipfile\n",
    "import ibmseti"
   ]
  },
  {
   "cell_type": "code",
   "execution_count": 2,
   "metadata": {
    "collapsed": false,
    "deletable": true,
    "editable": true
   },
   "outputs": [],
   "source": [
    "### SET YOUR TEAM NAME HERE! Use this folder to save intermediate results\n",
    "mydatafolder = 'somedatafolder' #<TEAM NAME HERE>\n",
    "mydatafolder = os.path.join( os.environ['PWD'], mydatafolder )  #Change my_data_folder to your team name\n",
    "if os.path.exists(mydatafolder) is False:\n",
    "    os.makedirs(mydatafolder)\n",
    "\n",
    "base_url = 'https://dal.objectstorage.open.softlayer.com/v1/AUTH_cdbef52bdf7a449c96936e1071f0a46b'\n",
    "\n",
    "basic_container = 'simsignals_basic_v2'\n",
    "basic4_zip_file = 'basic4.zip'\n",
    "basic_csv_container = 'simsignals_files'\n",
    "basic4_csv_file = 'public_list_basic_v2_26may_2017.csv'\n",
    "\n",
    "testset_container = 'simsignals_basic_v2_test'\n",
    "testset_zip_file = 'basic4_test.zip'\n",
    "testset_csv_container = 'simsignals_files'\n",
    "testset_csv_file = 'public_list_basic_testset_1june_2017.csv'"
   ]
  },
  {
   "cell_type": "code",
   "execution_count": 29,
   "metadata": {
    "collapsed": false,
    "deletable": true,
    "editable": true
   },
   "outputs": [
    {
     "data": {
      "text/plain": [
       "0"
      ]
     },
     "execution_count": 29,
     "metadata": {},
     "output_type": "execute_result"
    }
   ],
   "source": [
    "os.system('curl {}/{}/{} > {}'.format(base_url, basic_container, basic4_zip_file, mydatafolder + '/' + basic4_zip_file))\n",
    "os.system('curl {}/{}/{} > {}'.format(base_url, basic_csv_container, basic4_csv_file, mydatafolder + '/' + basic4_csv_file))"
   ]
  },
  {
   "cell_type": "code",
   "execution_count": null,
   "metadata": {
    "collapsed": true
   },
   "outputs": [],
   "source": [
    "os.system('curl {}/{}/{} > {}'.format(base_url, testset_container, testset_zip_file, mydatafolder + '/' + testset_zip_file))\n",
    "os.system('curl {}/{}/{} > {}'.format(base_url, testset_csv_container, testset_csv_file, mydatafolder + '/' + testset_csv_file))"
   ]
  },
  {
   "cell_type": "code",
   "execution_count": 3,
   "metadata": {
    "collapsed": false,
    "deletable": true,
    "editable": true
   },
   "outputs": [
    {
     "name": "stdout",
     "output_type": "stream",
     "text": [
      "total 1130900\r\n",
      "drwxrwxr-x  2 ubuntu ubuntu       4096 Jun 10 07:11 .\r\n",
      "drwxr-xr-x 16 ubuntu ubuntu       4096 Jun 10 07:12 ..\r\n",
      "-rw-rw-r--  1 ubuntu ubuntu 1157840757 Jun 10 07:07 basic4.zip\r\n",
      "-rw-rw-r--  1 ubuntu ubuntu     188027 Jun 10 07:11 public_list_basic_v2_26may_2017.csv\r\n"
     ]
    }
   ],
   "source": [
    "!ls -al \"$mydatafolder\""
   ]
  },
  {
   "cell_type": "markdown",
   "metadata": {
    "deletable": true,
    "editable": true
   },
   "source": [
    "## Access data in notebook"
   ]
  },
  {
   "cell_type": "code",
   "execution_count": 8,
   "metadata": {
    "collapsed": false,
    "deletable": true,
    "editable": true
   },
   "outputs": [
    {
     "data": {
      "text/plain": [
       "{u'signal_classification': u'narrowbanddrd',\n",
       " u'uuid': u'001b4fbd-bfbc-49e0-83a8-8b3c5b8b303d'}"
      ]
     },
     "execution_count": 8,
     "metadata": {},
     "output_type": "execute_result"
    }
   ],
   "source": [
    "zz = zipfile.ZipFile(mydatafolder + '/' + 'basic4.zip')\n",
    "basic4list = zz.namelist()[1:]\n",
    "firstfile = basic4list[0]\n",
    "aca = ibmseti.compamp.SimCompamp(zz.open(firstfile).read())\n",
    "aca.header() # this shows the classification"
   ]
  }
 ],
 "metadata": {
  "kernelspec": {
   "display_name": "Python 2",
   "language": "python",
   "name": "python2"
  },
  "language_info": {
   "codemirror_mode": {
    "name": "ipython",
    "version": 2
   },
   "file_extension": ".py",
   "mimetype": "text/x-python",
   "name": "python",
   "nbconvert_exporter": "python",
   "pygments_lexer": "ipython2",
   "version": "2.7.13"
  }
 },
 "nbformat": 4,
 "nbformat_minor": 0
}
